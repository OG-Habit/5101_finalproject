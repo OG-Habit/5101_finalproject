{
 "cells": [
  {
   "cell_type": "markdown",
   "metadata": {},
   "source": [
    "# PDF Extraction"
   ]
  },
  {
   "cell_type": "code",
   "execution_count": null,
   "metadata": {},
   "outputs": [],
   "source": [
    "import os\n",
    "from PyPDF2 import PdfReader\n",
    "from tqdm import tqdm\n",
    "import pandas as pd"
   ]
  },
  {
   "cell_type": "code",
   "execution_count": null,
   "metadata": {},
   "outputs": [],
   "source": [
    "pdfs_path = './data/pdfs'\n",
    "data = []\n",
    "for folder_name in os.listdir(pdfs_path):\n",
    "    folder_path = os.path.join(pdfs_path, folder_name)\n",
    "\n",
    "    if os.path.isdir(folder_path):\n",
    "        for file_name in tqdm(os.listdir(folder_path), desc=f\"Files in {folder_name}\", leave=True):\n",
    "            file_path = os.path.join(folder_path, file_name)\n",
    "            \n",
    "            if file_path.endswith('.pdf'):\n",
    "                with open(file_path, 'rb') as file:\n",
    "                    reader = PdfReader(file)\n",
    "                    text = ''\n",
    "                    for page in reader.pages:\n",
    "                        text += page.extract_text().replace('\\n', ' ')\n",
    "                    data.append({'label': folder_name, 'resume': text})"
   ]
  },
  {
   "cell_type": "code",
   "execution_count": null,
   "metadata": {},
   "outputs": [],
   "source": [
    "df = pd.DataFrame(data)"
   ]
  },
  {
   "cell_type": "code",
   "execution_count": null,
   "metadata": {},
   "outputs": [],
   "source": [
    "df.to_csv('data/extract.csv', index=False)"
   ]
  },
  {
   "cell_type": "markdown",
   "metadata": {},
   "source": [
    "# Data Cleaning"
   ]
  },
  {
   "cell_type": "code",
   "execution_count": null,
   "metadata": {},
   "outputs": [],
   "source": [
    "import pandas as pd"
   ]
  },
  {
   "cell_type": "code",
   "execution_count": null,
   "metadata": {},
   "outputs": [],
   "source": [
    "df = pd.read_csv('./data/extract.csv')"
   ]
  },
  {
   "cell_type": "code",
   "execution_count": null,
   "metadata": {},
   "outputs": [],
   "source": [
    "df.isnull().sum()"
   ]
  },
  {
   "cell_type": "code",
   "execution_count": null,
   "metadata": {},
   "outputs": [],
   "source": [
    "df.describe(include='all')"
   ]
  },
  {
   "cell_type": "code",
   "execution_count": null,
   "metadata": {},
   "outputs": [],
   "source": [
    "print(f\"Before droppping NA resumes: {len(df)}\")\n",
    "df.dropna(inplace=True)\n",
    "print(f\"After dropping NA resumes: {len(df)}\")"
   ]
  },
  {
   "cell_type": "code",
   "execution_count": null,
   "metadata": {},
   "outputs": [],
   "source": [
    "print(f\"Before droppping duplicate resumes: {len(df)}\")\n",
    "df.drop_duplicates(inplace=True)\n",
    "print(f\"After dropping duplicate resumes: {len(df)}\")"
   ]
  },
  {
   "cell_type": "markdown",
   "metadata": {},
   "source": [
    "## Key notes:\n",
    "1. 1 null resume\n",
    "2. 2 duplicate resumes"
   ]
  },
  {
   "cell_type": "markdown",
   "metadata": {},
   "source": [
    "# Data Preprocessing"
   ]
  },
  {
   "cell_type": "markdown",
   "metadata": {},
   "source": [
    "## Setup"
   ]
  },
  {
   "cell_type": "code",
   "execution_count": null,
   "metadata": {},
   "outputs": [],
   "source": [
    "import pandas as pd\n",
    "import nltk\n",
    "from nltk.stem.snowball import SnowballStemmer\n",
    "from nltk.corpus import stopwords\n",
    "from sklearn.feature_extraction import text\n",
    "import spacy\n",
    "from tqdm import tqdm"
   ]
  },
  {
   "cell_type": "code",
   "execution_count": null,
   "metadata": {},
   "outputs": [],
   "source": [
    "nltk.download(\"stopwords\")"
   ]
  },
  {
   "cell_type": "code",
   "execution_count": null,
   "metadata": {},
   "outputs": [],
   "source": [
    "df = pd.read_csv('data/extract.csv')\n",
    "nlp = spacy.load('en_core_web_lg')\n",
    "STEMMER = SnowballStemmer(language='english') \n",
    "SCIKIT_STOPWORDS = text.ENGLISH_STOP_WORDS\n",
    "NLTK_STOPWORDS = stopwords.words('english')"
   ]
  },
  {
   "cell_type": "code",
   "execution_count": null,
   "metadata": {},
   "outputs": [],
   "source": [
    "def is_stopword(token):\n",
    "   if(token.is_stop or \\\n",
    "      token.text in SCIKIT_STOPWORDS or \\\n",
    "      token.text in NLTK_STOPWORDS):\n",
    "      return True\n",
    "   else: \n",
    "      return False"
   ]
  },
  {
   "cell_type": "markdown",
   "metadata": {},
   "source": [
    "## Researching"
   ]
  },
  {
   "cell_type": "markdown",
   "metadata": {},
   "source": [
    "Listing how many stop words there are in each dictionary."
   ]
  },
  {
   "cell_type": "code",
   "execution_count": null,
   "metadata": {},
   "outputs": [],
   "source": [
    "print('Length of stop words')\n",
    "print(f'Spacy: {len(nlp.Defaults.stop_words)}')\n",
    "print(f'Scikit-learn: {len(SCIKIT_STOPWORDS)}')\n",
    "print(f'NLTK: {len(NLTK_STOPWORDS)}')"
   ]
  },
  {
   "cell_type": "markdown",
   "metadata": {},
   "source": [
    "nltk, scikit and spacy were used to filter out stop words from our data. \\\n",
    "**Note**: Punctuation and whitespaces will also be filtered out."
   ]
  },
  {
   "cell_type": "code",
   "execution_count": null,
   "metadata": {},
   "outputs": [],
   "source": [
    "\n",
    "doc = nlp('I am a dog running to outer space in the galaxy. hr HR bpo    BPO')\n",
    "\n",
    "for token in doc:\n",
    "    print(f'{token.text:{10}} {is_stopword(token)}')"
   ]
  },
  {
   "cell_type": "markdown",
   "metadata": {},
   "source": [
    "**Note**: Punctuations, whitespaces and digits are not considered as alphabet"
   ]
  },
  {
   "cell_type": "code",
   "execution_count": null,
   "metadata": {},
   "outputs": [],
   "source": [
    "doc = nlp('. , \" ! $ % Andy    212    ')\n",
    "for token in doc:\n",
    "    print(f'{token.text:{10}} {token.is_alpha}')"
   ]
  },
  {
   "cell_type": "markdown",
   "metadata": {},
   "source": [
    "**Note**: SnowballStemmer automatically lowercase the word"
   ]
  },
  {
   "cell_type": "code",
   "execution_count": null,
   "metadata": {},
   "outputs": [],
   "source": [
    "words = ['Ant', 'B', 'Beekeeper', 'beekeeper', 'Zpp', 'Dog']\n",
    "for word in words:\n",
    "    print(f\"{word} => {STEMMER.stem(word)}\")"
   ]
  },
  {
   "cell_type": "markdown",
   "metadata": {},
   "source": [
    "## Preprocessing"
   ]
  },
  {
   "cell_type": "code",
   "execution_count": null,
   "metadata": {},
   "outputs": [],
   "source": [
    "def preprocess(txt):\n",
    "   doc = nlp(txt)\n",
    "   result = ''\n",
    "\n",
    "   for token in doc:\n",
    "      # Only non-entity words are allowed except stopwords\n",
    "      if(token.is_alpha and \\\n",
    "         not is_stopword(token) and \\\n",
    "         not token.ent_type_):\n",
    "         preprocessed_txt = STEMMER.stem(token.text)\n",
    "         result += f'{preprocessed_txt} '\n",
    "\n",
    "   return result"
   ]
  },
  {
   "cell_type": "code",
   "execution_count": null,
   "metadata": {},
   "outputs": [],
   "source": [
    "cleaned_arr = []\n",
    "for index, row in tqdm(df.iterrows(), total=len(df), desc=\"Preprocessing Resumes\"):\n",
    "    txt = row['resume']\n",
    "    cleaned_txt = preprocess(txt)\n",
    "    cleaned_arr.append(cleaned_txt)\n",
    "\n",
    "df['clean'] = cleaned_arr"
   ]
  },
  {
   "cell_type": "code",
   "execution_count": null,
   "metadata": {},
   "outputs": [],
   "source": [
    "df['clean'][0]"
   ]
  },
  {
   "cell_type": "code",
   "execution_count": null,
   "metadata": {},
   "outputs": [],
   "source": [
    "df.to_csv(\"data/cleaned.csv\", index=False)"
   ]
  },
  {
   "cell_type": "markdown",
   "metadata": {},
   "source": [
    "# Data Exploratory and Analysis"
   ]
  },
  {
   "cell_type": "code",
   "execution_count": 1,
   "metadata": {},
   "outputs": [],
   "source": [
    "import pandas as pd\n",
    "import numpy as np\n",
    "import matplotlib.pyplot as plt\n",
    "from matplotlib.gridspec import GridSpec\n",
    "import seaborn as sns\n",
    "from wordcloud import WordCloud"
   ]
  },
  {
   "cell_type": "code",
   "execution_count": 2,
   "metadata": {},
   "outputs": [],
   "source": [
    "df = pd.read_csv('data/cleaned.csv')"
   ]
  },
  {
   "cell_type": "code",
   "execution_count": 3,
   "metadata": {},
   "outputs": [
    {
     "data": {
      "image/png": "[encoded data removed]",
      "text/plain": [
       "<Figure size 1400x700 with 2 Axes>"
      ]
     },
     "metadata": {},
     "output_type": "display_data"
    }
   ],
   "source": [
    "fig = plt.figure(figsize=(14,7))\n",
    "df['length'] = df.clean.str.split().apply(len)\n",
    "ax1 = fig.add_subplot(122)\n",
    "sns.histplot(df['length'], ax=ax1,color='green')\n",
    "describe = df.length.describe().to_frame().round(2)\n",
    "\n",
    "ax2 = fig.add_subplot(121)\n",
    "ax2.axis('off')\n",
    "font_size = 14\n",
    "bbox = [0, 0, 1, 1]\n",
    "table = ax2.table(cellText = describe.values, rowLabels = describe.index, bbox=bbox, colLabels=describe.columns)\n",
    "table.set_fontsize(font_size)\n",
    "fig.suptitle('Distribution of text length for text.', fontsize=16)\n",
    "\n",
    "# fig = plt.gcf()\n",
    "plt.show()"
   ]
  },
  {
   "cell_type": "markdown",
   "metadata": {},
   "source": [
    "## Important Note\n",
    "The histogram shows that the data has a right-skewed distribution. This distribution is very ineffective and costly when deep learning is implemented. Deep learning models like LSTM needs the inputs to be of the same size, so every instance of data has to be of the same length by either padding or truncating the data until it has the desired common length. Keeping the data with an extremely high word count and padding the rest of the data to this size will be very computationally expensive and inefficient. Instead of padding, truncating the data to the median for example will result to loss of information on a few data which might affect the models accuracy considering that the total count of our data is only 2481 to begin with. To ammend this, the top 15% longest data are removed."
   ]
  },
  {
   "cell_type": "code",
   "execution_count": 4,
   "metadata": {},
   "outputs": [
    {
     "data": {
      "text/plain": [
       "598     3186\n",
       "1789    2259\n",
       "1716    2049\n",
       "1447    1806\n",
       "273     1705\n",
       "Name: word_length, dtype: int64"
      ]
     },
     "execution_count": 4,
     "metadata": {},
     "output_type": "execute_result"
    }
   ],
   "source": [
    "df['word_length'] = df['clean'].str.split(' ')\n",
    "df['word_length'] = df['word_length'].str.len()\n",
    "df['word_length'].sort_values(ascending=False).head()"
   ]
  },
  {
   "cell_type": "code",
   "execution_count": 5,
   "metadata": {},
   "outputs": [],
   "source": [
    "percentile_rightmost = df['word_length'].quantile(0.8)\n",
    "percentile_leftmost = df['word_length'].quantile(0.15)\n",
    "filtered_df = df[(df['word_length'] >= percentile_leftmost) & (df['word_length'] <= percentile_rightmost)]"
   ]
  },
  {
   "cell_type": "code",
   "execution_count": 6,
   "metadata": {},
   "outputs": [
    {
     "data": {
      "image/png": "[encoded data removed]",
      "text/plain": [
       "<Figure size 1400x700 with 2 Axes>"
      ]
     },
     "metadata": {},
     "output_type": "display_data"
    }
   ],
   "source": [
    "fig = plt.figure(figsize=(14,7))\n",
    "df['length'] = filtered_df.clean.str.split().apply(len)\n",
    "ax1 = fig.add_subplot(122)\n",
    "sns.histplot(df['length'], ax=ax1,color='green')\n",
    "describe = df.length.describe().to_frame().round(2)\n",
    "\n",
    "ax2 = fig.add_subplot(121)\n",
    "ax2.axis('off')\n",
    "font_size = 14\n",
    "bbox = [0, 0, 1, 1]\n",
    "table = ax2.table(cellText = describe.values, rowLabels = describe.index, bbox=bbox, colLabels=describe.columns)\n",
    "table.set_fontsize(font_size)\n",
    "fig.suptitle('Distribution of text length for text.', fontsize=16)\n",
    "\n",
    "plt.show()"
   ]
  },
  {
   "cell_type": "code",
   "execution_count": null,
   "metadata": {},
   "outputs": [],
   "source": [
    "# Saving the data\n",
    "filtered_df.to_csv(\"data/cleaned_15-80.csv\", index=False)"
   ]
  },
  {
   "cell_type": "code",
   "execution_count": 7,
   "metadata": {},
   "outputs": [
    {
     "name": "stdout",
     "output_type": "stream",
     "text": [
      "Num of removed data: 864\n"
     ]
    }
   ],
   "source": [
    "print(f\"Num of removed data: {len(df) - len(filtered_df)}\")"
   ]
  },
  {
   "cell_type": "code",
   "execution_count": null,
   "metadata": {},
   "outputs": [],
   "source": [
    "df = filtered_df\n",
    "df.head()"
   ]
  },
  {
   "cell_type": "code",
   "execution_count": null,
   "metadata": {},
   "outputs": [],
   "source": [
    "df.describe()"
   ]
  },
  {
   "cell_type": "code",
   "execution_count": null,
   "metadata": {},
   "outputs": [],
   "source": [
    "df['label'].value_counts().sort_values(ascending=False).plot(kind='bar', figsize=(12, 6))\n",
    "plt.show()"
   ]
  },
  {
   "cell_type": "code",
   "execution_count": null,
   "metadata": {},
   "outputs": [],
   "source": [
    "count=df['label'].value_counts()\n",
    "label=df['label'].value_counts().keys()\n",
    "\n",
    "plt.figure(1, figsize=(25,25))\n",
    "grid=GridSpec(2,2)\n",
    "\n",
    "cmap=plt.get_cmap('coolwarm')\n",
    "\n",
    "color=[cmap(i) for i in np.linspace(0, 1, 5)]\n",
    "plt.subplot(grid[0,1], aspect=1, title='Distribution')\n",
    "\n",
    "pie=plt.pie(count, labels=label, autopct='%1.2f%%')\n",
    "plt.show()"
   ]
  },
  {
   "cell_type": "code",
   "execution_count": null,
   "metadata": {},
   "outputs": [],
   "source": [
    "categories = np.sort(df['label'].unique())\n",
    "df_categories = [df[df['label'] == category].loc[:, ['clean', 'label']] for category in categories]\n",
    "df_categories[10]"
   ]
  },
  {
   "cell_type": "code",
   "execution_count": null,
   "metadata": {},
   "outputs": [],
   "source": [
    "def generate_wordcloud(df):\n",
    "    text = ' '.join(df['clean'])  # Assuming 'clean' column contains preprocessed text\n",
    "    wordcloud = WordCloud(width=800, height=400, background_color='white').generate(text)\n",
    "    return wordcloud"
   ]
  },
  {
   "cell_type": "code",
   "execution_count": null,
   "metadata": {},
   "outputs": [],
   "source": [
    "fig = plt.figure(figsize=(28, 64))\n",
    "\n",
    "for i, category in enumerate(np.sort(df['label'].unique())):\n",
    "    wordcloud = generate_wordcloud(df_categories[i])\n",
    "    fig.add_subplot(12, 2, i + 1).set_title(category)\n",
    "    plt.imshow(wordcloud, interpolation='bilinear')\n",
    "    plt.axis('off')\n",
    "\n",
    "plt.show()\n",
    "plt.close()"
   ]
  },
  {
   "cell_type": "markdown",
   "metadata": {},
   "source": [
    "# Classification Model"
   ]
  },
  {
   "cell_type": "markdown",
   "metadata": {},
   "source": [
    "## Import  "
   ]
  },
  {
   "cell_type": "code",
   "execution_count": 1,
   "metadata": {},
   "outputs": [
    {
     "name": "stderr",
     "output_type": "stream",
     "text": [
      "2024-05-15 23:17:35.337526: I tensorflow/core/util/port.cc:110] oneDNN custom operations are on. You may see slightly different numerical results due to floating-point round-off errors from different computation orders. To turn them off, set the environment variable `TF_ENABLE_ONEDNN_OPTS=0`.\n",
      "2024-05-15 23:17:35.451951: I tensorflow/tsl/cuda/cudart_stub.cc:28] Could not find cuda drivers on your machine, GPU will not be used.\n",
      "2024-05-15 23:17:35.837720: I tensorflow/tsl/cuda/cudart_stub.cc:28] Could not find cuda drivers on your machine, GPU will not be used.\n",
      "2024-05-15 23:17:35.839543: I tensorflow/core/platform/cpu_feature_guard.cc:182] This TensorFlow binary is optimized to use available CPU instructions in performance-critical operations.\n",
      "To enable the following instructions: AVX2 AVX512F AVX512_VNNI FMA, in other operations, rebuild TensorFlow with the appropriate compiler flags.\n",
      "2024-05-15 23:17:37.464053: W tensorflow/compiler/tf2tensorrt/utils/py_utils.cc:38] TF-TRT Warning: Could not find TensorRT\n"
     ]
    }
   ],
   "source": [
    "import tensorflow as tf\n",
    "from tensorflow.keras.models import Sequential\n",
    "from tensorflow.keras.layers import Embedding, Flatten, Dense, Dropout\n",
    "from tensorflow.keras.layers import LSTM, Conv1D, SimpleRNN, Bidirectional, MaxPooling1D, SpatialDropout1D, GRU\n",
    "from tensorflow.keras.preprocessing.text import Tokenizer\n",
    "from tensorflow.keras.preprocessing.sequence import pad_sequences\n",
    "from tensorflow.keras.utils import to_categorical\n",
    "from tensorflow.keras.optimizers import Adam\n",
    "from tensorflow.keras.callbacks import ModelCheckpoint, EarlyStopping, ReduceLROnPlateau\n",
    "\n",
    "\n",
    "from sklearn.ensemble import GradientBoostingClassifier, RandomForestClassifier, AdaBoostClassifier, VotingClassifier\n",
    "from sklearn.model_selection import GridSearchCV\n",
    "from sklearn.preprocessing import LabelEncoder\n",
    "from sklearn.model_selection import train_test_split\n",
    "from sklearn.feature_extraction.text import TfidfVectorizer\n",
    "from sklearn.svm import LinearSVC\n",
    "\n",
    "import matplotlib.pyplot as plt\n",
    "import pandas as pd"
   ]
  },
  {
   "cell_type": "markdown",
   "metadata": {},
   "source": [
    "## Creating model functions for deep learning"
   ]
  },
  {
   "cell_type": "code",
   "execution_count": 10,
   "metadata": {},
   "outputs": [],
   "source": [
    "EMBEDDING_DIM = 500\n",
    "MAX_WORDS = None    # define on each lstm model\n",
    "TARGET_SIZE = 24\n",
    "encoder = LabelEncoder()\n",
    "\n",
    "def create_lstm(input_len, vocab_size=MAX_WORDS, embed_dim=EMBEDDING_DIM):\n",
    "    model = Sequential()\n",
    "    model.add(Embedding(vocab_size, embed_dim, input_length=input_len))\n",
    "    model.add(SpatialDropout1D(0.2))\n",
    "    model.add(LSTM(128, dropout=0.2, recurrent_dropout=0.2, return_sequences=False))\n",
    "    model.add(Dense(TARGET_SIZE, activation='softmax'))\n",
    "    return model\n",
    "\n",
    "def transform_and_split(X, y, input_len):\n",
    "    # Encode y\n",
    "    y_encoded = encoder.fit_transform(y)\n",
    "\n",
    "    # Tokenize the input data\n",
    "    tokenizer = Tokenizer(num_words=MAX_WORDS+1)\n",
    "    tokenizer.fit_on_texts(X)\n",
    "    X_sequences = tokenizer.texts_to_sequences(X)\n",
    "    X_sequences_padded = pad_sequences(X_sequences, maxlen=input_len)\n",
    "\n",
    "    y_encoded_dl = to_categorical(y_encoded, num_classes=TARGET_SIZE)\n",
    "    \n",
    "    # Split data\n",
    "    XX_train, XX_test, y_train, y_test = train_test_split(X_sequences_padded, y_encoded_dl, test_size=0.2, random_state=42)\n",
    "\n",
    "    vocab_size = len(tokenizer.word_index) + 1\n",
    "\n",
    "    return XX_train, XX_test, y_train, y_test, vocab_size\n",
    "\n",
    "def create_callbacks(path):\n",
    "    checkpoint_callback = ModelCheckpoint(filepath=path, save_best_only=True, monitor=\"val_accuracy\", mode=\"max\", verbose=1)\n",
    "\n",
    "    early_stopping_callback = EarlyStopping(monitor=\"val_accuracy\", mode=\"max\", patience=10, verbose=1, restore_best_weights=True)\n",
    "\n",
    "    reduce_lr_callback = ReduceLROnPlateau(monitor=\"val_loss\", factor=0.1, patience=5, verbose=1, mode=\"min\", min_delta=0.0001, cooldown=0, min_lr=0)\n",
    "\n",
    "    return [checkpoint_callback, early_stopping_callback, reduce_lr_callback]"
   ]
  },
  {
   "cell_type": "markdown",
   "metadata": {},
   "source": [
    "## LSTM"
   ]
  },
  {
   "cell_type": "code",
   "execution_count": 3,
   "metadata": {},
   "outputs": [
    {
     "name": "stdout",
     "output_type": "stream",
     "text": [
      "Model: \"sequential\"\n",
      "_________________________________________________________________\n",
      " Layer (type)                Output Shape              Param #   \n",
      "=================================================================\n",
      " embedding (Embedding)       (None, 1500, 500)         7500000   \n",
      "                                                                 \n",
      " spatial_dropout1d (SpatialD  (None, 1500, 500)        0         \n",
      " ropout1D)                                                       \n",
      "                                                                 \n",
      " lstm (LSTM)                 (None, 128)               322048    \n",
      "                                                                 \n",
      " dense (Dense)               (None, 24)                3096      \n",
      "                                                                 \n",
      "=================================================================\n",
      "Total params: 7,825,144\n",
      "Trainable params: 7,825,144\n",
      "Non-trainable params: 0\n",
      "_________________________________________________________________\n"
     ]
    }
   ],
   "source": [
    "df = pd.read_csv('data/cleaned.csv')\n",
    "df['word_length'] = df['clean'].apply(lambda x: len(str(x).split()))\n",
    "\n",
    "# max_length = df['word_length'].max() # too big ram would die\n",
    "max_length = 1500\n",
    "\n",
    "MAX_WORDS = 10000\n",
    "\n",
    "X = df['clean']\n",
    "y = df['label']\n",
    "X_train, X_test_lstm, y_train, y_test_lstm, vocab_size = transform_and_split(X, y, max_length)\n",
    "\n",
    "model_lstm = create_lstm(max_length, vocab_size=15000)\n",
    "model_lstm.summary()"
   ]
  },
  {
   "cell_type": "code",
   "execution_count": 8,
   "metadata": {},
   "outputs": [
    {
     "name": "stdout",
     "output_type": "stream",
     "text": [
      "Epoch 1/15\n",
      "16/16 [==============================] - ETA: 0s - loss: 3.1616 - accuracy: 0.0877\n",
      "Epoch 1: val_accuracy improved from -inf to 0.04225, saving model to lstm_model.h5\n",
      "16/16 [==============================] - 118s 7s/step - loss: 3.1616 - accuracy: 0.0877 - val_loss: 3.1489 - val_accuracy: 0.0423 - lr: 0.0010\n",
      "Epoch 2/15\n",
      "16/16 [==============================] - ETA: 0s - loss: 3.0171 - accuracy: 0.1351\n",
      "Epoch 2: val_accuracy improved from 0.04225 to 0.08652, saving model to lstm_model.h5\n",
      "16/16 [==============================] - 113s 7s/step - loss: 3.0171 - accuracy: 0.1351 - val_loss: 3.0292 - val_accuracy: 0.0865 - lr: 0.0010\n",
      "Epoch 3/15\n",
      "16/16 [==============================] - ETA: 0s - loss: 2.7944 - accuracy: 0.2041\n",
      "Epoch 3: val_accuracy did not improve from 0.08652\n",
      "16/16 [==============================] - 125s 8s/step - loss: 2.7944 - accuracy: 0.2041 - val_loss: 2.9831 - val_accuracy: 0.0825 - lr: 0.0010\n",
      "Epoch 4/15\n",
      "16/16 [==============================] - ETA: 0s - loss: 2.6558 - accuracy: 0.2626 \n",
      "Epoch 4: val_accuracy improved from 0.08652 to 0.18913, saving model to lstm_model.h5\n",
      "16/16 [==============================] - 168s 11s/step - loss: 2.6558 - accuracy: 0.2626 - val_loss: 2.8477 - val_accuracy: 0.1891 - lr: 0.0010\n",
      "Epoch 5/15\n",
      "16/16 [==============================] - ETA: 0s - loss: 2.4338 - accuracy: 0.3528\n",
      "Epoch 5: val_accuracy did not improve from 0.18913\n",
      "16/16 [==============================] - 135s 8s/step - loss: 2.4338 - accuracy: 0.3528 - val_loss: 2.7818 - val_accuracy: 0.1710 - lr: 0.0010\n",
      "Epoch 6/15\n",
      "16/16 [==============================] - ETA: 0s - loss: 2.1326 - accuracy: 0.4219\n",
      "Epoch 6: val_accuracy improved from 0.18913 to 0.20322, saving model to lstm_model.h5\n",
      "16/16 [==============================] - 122s 8s/step - loss: 2.1326 - accuracy: 0.4219 - val_loss: 2.7661 - val_accuracy: 0.2032 - lr: 0.0010\n",
      "Epoch 7/15\n",
      "16/16 [==============================] - ETA: 0s - loss: 1.8529 - accuracy: 0.4940\n",
      "Epoch 7: val_accuracy improved from 0.20322 to 0.22736, saving model to lstm_model.h5\n",
      "16/16 [==============================] - 112s 7s/step - loss: 1.8529 - accuracy: 0.4940 - val_loss: 2.7430 - val_accuracy: 0.2274 - lr: 0.0010\n",
      "Epoch 8/15\n",
      "16/16 [==============================] - ETA: 0s - loss: 1.5877 - accuracy: 0.5842\n",
      "Epoch 8: val_accuracy improved from 0.22736 to 0.25352, saving model to lstm_model.h5\n",
      "16/16 [==============================] - 111s 7s/step - loss: 1.5877 - accuracy: 0.5842 - val_loss: 2.6751 - val_accuracy: 0.2535 - lr: 0.0010\n",
      "Epoch 9/15\n",
      "16/16 [==============================] - ETA: 0s - loss: 1.3141 - accuracy: 0.6633\n",
      "Epoch 9: val_accuracy did not improve from 0.25352\n",
      "16/16 [==============================] - 122s 8s/step - loss: 1.3141 - accuracy: 0.6633 - val_loss: 2.7529 - val_accuracy: 0.2455 - lr: 0.0010\n",
      "Epoch 10/15\n",
      "16/16 [==============================] - ETA: 0s - loss: 1.0818 - accuracy: 0.7354\n",
      "Epoch 10: val_accuracy did not improve from 0.25352\n",
      "16/16 [==============================] - 121s 8s/step - loss: 1.0818 - accuracy: 0.7354 - val_loss: 2.7966 - val_accuracy: 0.2515 - lr: 0.0010\n",
      "Epoch 11/15\n",
      " 4/16 [======>.......................] - ETA: 1:23 - loss: 0.9281 - accuracy: 0.7852"
     ]
    }
   ],
   "source": [
    "model_lstm.compile(loss='categorical_crossentropy', optimizer='adam', metrics=['accuracy'])\n",
    "epochs = 15\n",
    "batch_size = 128\n",
    "\n",
    "history_lstm = model_lstm.fit(X_train, y_train, epochs=epochs, batch_size=batch_size, validation_data=(X_test_lstm,y_test_lstm), callbacks=create_callbacks(\"lstm_model.h5\"))"
   ]
  },
  {
   "cell_type": "markdown",
   "metadata": {},
   "source": [
    "## LSTM filtered\n"
   ]
  },
  {
   "cell_type": "code",
   "execution_count": 8,
   "metadata": {},
   "outputs": [
    {
     "name": "stdout",
     "output_type": "stream",
     "text": [
      "Model: \"sequential_3\"\n",
      "_________________________________________________________________\n",
      " Layer (type)                Output Shape              Param #   \n",
      "=================================================================\n",
      " embedding_3 (Embedding)     (None, 571, 500)          6859000   \n",
      "                                                                 \n",
      " spatial_dropout1d_3 (Spatia  (None, 571, 500)         0         \n",
      " lDropout1D)                                                     \n",
      "                                                                 \n",
      " lstm_3 (LSTM)               (None, 128)               322048    \n",
      "                                                                 \n",
      " dense_3 (Dense)             (None, 24)                3096      \n",
      "                                                                 \n",
      "=================================================================\n",
      "Total params: 7,184,144\n",
      "Trainable params: 7,184,144\n",
      "Non-trainable params: 0\n",
      "_________________________________________________________________\n"
     ]
    }
   ],
   "source": [
    "df = pd.read_csv('data/cleaned_15-80.csv')\n",
    "\n",
    "MAX_WORDS = df['word_length'].max()\n",
    "\n",
    "max_length = df['word_length'].max()\n",
    "\n",
    "X = df['clean']\n",
    "y = df['label']\n",
    "X_train, X_test_lstm_15_80, y_train, y_test_lstm_15_80, vocab_size = transform_and_split(X, y, max_length)\n",
    "\n",
    "model_lstm_15_80 = create_lstm(max_length, vocab_size=vocab_size)\n",
    "model_lstm_15_80.summary()"
   ]
  },
  {
   "cell_type": "code",
   "execution_count": 9,
   "metadata": {},
   "outputs": [
    {
     "data": {
      "text/plain": [
       "571"
      ]
     },
     "execution_count": 9,
     "metadata": {},
     "output_type": "execute_result"
    }
   ],
   "source": [
    "MAX_WORDS"
   ]
  },
  {
   "cell_type": "code",
   "execution_count": 12,
   "metadata": {},
   "outputs": [
    {
     "data": {
      "text/plain": [
       "13718"
      ]
     },
     "execution_count": 12,
     "metadata": {},
     "output_type": "execute_result"
    }
   ],
   "source": [
    "vocab_size"
   ]
  },
  {
   "cell_type": "code",
   "execution_count": 11,
   "metadata": {},
   "outputs": [
    {
     "name": "stdout",
     "output_type": "stream",
     "text": [
      "Epoch 1/15\n",
      "21/21 [==============================] - ETA: 0s - loss: 3.1590 - accuracy: 0.0936\n",
      "Epoch 1: val_accuracy improved from -inf to 0.09877, saving model to lstm_model_15-80.h5\n",
      "21/21 [==============================] - 29s 1s/step - loss: 3.1590 - accuracy: 0.0936 - val_loss: 3.1185 - val_accuracy: 0.0988 - lr: 0.0010\n",
      "Epoch 2/15\n",
      "21/21 [==============================] - ETA: 0s - loss: 2.9780 - accuracy: 0.1330\n",
      "Epoch 2: val_accuracy improved from 0.09877 to 0.12654, saving model to lstm_model_15-80.h5\n",
      "21/21 [==============================] - 26s 1s/step - loss: 2.9780 - accuracy: 0.1330 - val_loss: 2.9426 - val_accuracy: 0.1265 - lr: 0.0010\n",
      "Epoch 3/15\n",
      "21/21 [==============================] - ETA: 0s - loss: 2.8536 - accuracy: 0.2359\n",
      "Epoch 3: val_accuracy improved from 0.12654 to 0.16358, saving model to lstm_model_15-80.h5\n",
      "21/21 [==============================] - 28s 1s/step - loss: 2.8536 - accuracy: 0.2359 - val_loss: 2.8424 - val_accuracy: 0.1636 - lr: 0.0010\n",
      "Epoch 4/15\n",
      "21/21 [==============================] - ETA: 0s - loss: 2.6809 - accuracy: 0.2954\n",
      "Epoch 4: val_accuracy improved from 0.16358 to 0.20988, saving model to lstm_model_15-80.h5\n",
      "21/21 [==============================] - 28s 1s/step - loss: 2.6809 - accuracy: 0.2954 - val_loss: 2.7163 - val_accuracy: 0.2099 - lr: 0.0010\n",
      "Epoch 5/15\n",
      "21/21 [==============================] - ETA: 0s - loss: 2.4680 - accuracy: 0.3047\n",
      "Epoch 5: val_accuracy improved from 0.20988 to 0.24074, saving model to lstm_model_15-80.h5\n",
      "21/21 [==============================] - 28s 1s/step - loss: 2.4680 - accuracy: 0.3047 - val_loss: 2.5795 - val_accuracy: 0.2407 - lr: 0.0010\n",
      "Epoch 6/15\n",
      "21/21 [==============================] - ETA: 0s - loss: 2.2438 - accuracy: 0.3418\n",
      "Epoch 6: val_accuracy did not improve from 0.24074\n",
      "21/21 [==============================] - 28s 1s/step - loss: 2.2438 - accuracy: 0.3418 - val_loss: 2.6219 - val_accuracy: 0.2346 - lr: 0.0010\n",
      "Epoch 7/15\n",
      "21/21 [==============================] - ETA: 0s - loss: 2.1774 - accuracy: 0.3689\n",
      "Epoch 7: val_accuracy improved from 0.24074 to 0.26852, saving model to lstm_model_15-80.h5\n",
      "21/21 [==============================] - 28s 1s/step - loss: 2.1774 - accuracy: 0.3689 - val_loss: 2.4946 - val_accuracy: 0.2685 - lr: 0.0010\n",
      "Epoch 8/15\n",
      "21/21 [==============================] - ETA: 0s - loss: 1.9387 - accuracy: 0.4447\n",
      "Epoch 8: val_accuracy improved from 0.26852 to 0.27469, saving model to lstm_model_15-80.h5\n",
      "21/21 [==============================] - 28s 1s/step - loss: 1.9387 - accuracy: 0.4447 - val_loss: 2.4410 - val_accuracy: 0.2747 - lr: 0.0010\n",
      "Epoch 9/15\n",
      "21/21 [==============================] - ETA: 0s - loss: 1.7556 - accuracy: 0.5112\n",
      "Epoch 9: val_accuracy improved from 0.27469 to 0.28086, saving model to lstm_model_15-80.h5\n",
      "21/21 [==============================] - 28s 1s/step - loss: 1.7556 - accuracy: 0.5112 - val_loss: 2.4286 - val_accuracy: 0.2809 - lr: 0.0010\n",
      "Epoch 10/15\n",
      "21/21 [==============================] - ETA: 0s - loss: 1.6056 - accuracy: 0.5352\n",
      "Epoch 10: val_accuracy did not improve from 0.28086\n",
      "21/21 [==============================] - 27s 1s/step - loss: 1.6056 - accuracy: 0.5352 - val_loss: 2.4878 - val_accuracy: 0.2654 - lr: 0.0010\n",
      "Epoch 11/15\n",
      "21/21 [==============================] - ETA: 0s - loss: 1.5074 - accuracy: 0.5777\n",
      "Epoch 11: val_accuracy improved from 0.28086 to 0.29321, saving model to lstm_model_15-80.h5\n",
      "21/21 [==============================] - 40s 2s/step - loss: 1.5074 - accuracy: 0.5777 - val_loss: 2.4690 - val_accuracy: 0.2932 - lr: 0.0010\n",
      "Epoch 12/15\n",
      "21/21 [==============================] - ETA: 0s - loss: 1.3463 - accuracy: 0.6218\n",
      "Epoch 12: val_accuracy improved from 0.29321 to 0.31790, saving model to lstm_model_15-80.h5\n",
      "21/21 [==============================] - 43s 2s/step - loss: 1.3463 - accuracy: 0.6218 - val_loss: 2.4722 - val_accuracy: 0.3179 - lr: 0.0010\n",
      "Epoch 13/15\n",
      "21/21 [==============================] - ETA: 0s - loss: 1.2321 - accuracy: 0.6620\n",
      "Epoch 13: val_accuracy improved from 0.31790 to 0.32407, saving model to lstm_model_15-80.h5\n",
      "21/21 [==============================] - 39s 2s/step - loss: 1.2321 - accuracy: 0.6620 - val_loss: 2.5476 - val_accuracy: 0.3241 - lr: 0.0010\n",
      "Epoch 14/15\n",
      "21/21 [==============================] - ETA: 0s - loss: 1.0941 - accuracy: 0.6999\n",
      "Epoch 14: val_accuracy did not improve from 0.32407\n",
      "\n",
      "Epoch 14: ReduceLROnPlateau reducing learning rate to 0.00010000000474974513.\n",
      "21/21 [==============================] - 39s 2s/step - loss: 1.0941 - accuracy: 0.6999 - val_loss: 2.6673 - val_accuracy: 0.2870 - lr: 0.0010\n",
      "Epoch 15/15\n",
      "21/21 [==============================] - ETA: 0s - loss: 0.9860 - accuracy: 0.7417\n",
      "Epoch 15: val_accuracy did not improve from 0.32407\n",
      "21/21 [==============================] - 34s 2s/step - loss: 0.9860 - accuracy: 0.7417 - val_loss: 2.5946 - val_accuracy: 0.2840 - lr: 1.0000e-04\n"
     ]
    }
   ],
   "source": [
    "model_lstm_15_80.compile(loss='categorical_crossentropy', optimizer='adam', metrics=['accuracy'])\n",
    "epochs = 15\n",
    "batch_size = 64\n",
    "\n",
    "history_lstm_15_80 = model_lstm_15_80.fit(X_train, y_train, epochs=epochs, batch_size=batch_size, validation_data=(X_test_lstm_15_80,y_test_lstm_15_80), callbacks=create_callbacks(\"lstm_model_15-80.h5\"))"
   ]
  },
  {
   "cell_type": "markdown",
   "metadata": {},
   "source": [
    "# Conclusion and Result"
   ]
  },
  {
   "cell_type": "markdown",
   "metadata": {},
   "source": [
    "## Setup"
   ]
  },
  {
   "cell_type": "code",
   "execution_count": 15,
   "metadata": {},
   "outputs": [],
   "source": [
    "from sklearn.model_selection import cross_val_score\n",
    "from sklearn.metrics import accuracy_score, classification_report\n",
    "import numpy as np\n",
    "import matplotlib.pyplot as plt"
   ]
  },
  {
   "cell_type": "code",
   "execution_count": 16,
   "metadata": {},
   "outputs": [],
   "source": [
    "def print_results(X_test, y_test, history, model):\n",
    "    y_pred = model.predict(X_test)\n",
    "    y_pred_prob = np.array(y_pred)  \n",
    "    y_pred = np.argmax(y_pred_prob, axis=1)\n",
    "\n",
    "    y_test_prob = np.array(y_test)  \n",
    "    y_test_acc = np.argmax(y_test_prob, axis=1)\n",
    "\n",
    "    print(f'Accuracy score: ', accuracy_score(y_test_acc, y_pred))\n",
    "\n",
    "    results = model.evaluate(X_test, y_test, verbose=False)\n",
    "    print(f'Test results - Loss: {results[0]} - Accuracy: {100*results[1]}%')\n",
    "    \n",
    "\n",
    "    acc = history.history['accuracy']                        \n",
    "    val_acc = history.history['val_accuracy']\n",
    "    loss = history.history['loss']\n",
    "    val_loss = history.history['val_loss']\n",
    "    plt.plot( acc, 'go', label='Train accuracy')\n",
    "    plt.plot( val_acc, 'g', label='Validate accuracy')\n",
    "    plt.title('Train and validate accuracy')\n",
    "    plt.legend()                                           \n",
    "\n",
    "    plt.figure()\n",
    "    plt.plot( loss, 'go', label='Train loss')\n",
    "    plt.plot( val_loss, 'g', label='Validate loss')\n",
    "    plt.title('Train and validate loss')\n",
    "    plt.legend()\n",
    "    plt.show()"
   ]
  },
  {
   "cell_type": "markdown",
   "metadata": {},
   "source": [
    "## LSTM "
   ]
  },
  {
   "cell_type": "code",
   "execution_count": null,
   "metadata": {},
   "outputs": [],
   "source": [
    "print_results(X_test_lstm, y_test_lstm, history_lstm, model_lstm)"
   ]
  },
  {
   "cell_type": "markdown",
   "metadata": {},
   "source": [
    "## LSTM 15 - 80"
   ]
  },
  {
   "cell_type": "code",
   "execution_count": 17,
   "metadata": {},
   "outputs": [
    {
     "name": "stdout",
     "output_type": "stream",
     "text": [
      "11/11 [==============================] - 2s 176ms/step\n",
      "Accuracy score:  0.2839506172839506\n",
      "Test results - Loss: 2.5945634841918945 - Accuracy: 28.395062685012817%\n"
     ]
    },
    {
     "data": {
      "image/png": "[encoded data removed]",
      "text/plain": [
       "<Figure size 640x480 with 1 Axes>"
      ]
     },
     "metadata": {},
     "output_type": "display_data"
    },
    {
     "data": {
      "image/png": "[encoded data removed]",
      "text/plain": [
       "<Figure size 640x480 with 1 Axes>"
      ]
     },
     "metadata": {},
     "output_type": "display_data"
    }
   ],
   "source": [
    "print_results(X_test_lstm_15_80, y_test_lstm_15_80, history_lstm_15_80, model_lstm_15_80)"
   ]
  }
 ],
 "metadata": {
  "kernelspec": {
   "display_name": "Python 3",
   "language": "python",
   "name": "python3"
  },
  "language_info": {
   "codemirror_mode": {
    "name": "ipython",
    "version": 3
   },
   "file_extension": ".py",
   "mimetype": "text/x-python",
   "name": "python",
   "nbconvert_exporter": "python",
   "pygments_lexer": "ipython3",
   "version": "3.10.12"
  }
 },
 "nbformat": 4,
 "nbformat_minor": 2
}
